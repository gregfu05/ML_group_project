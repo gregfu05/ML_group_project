{
 "cells": [
  {
   "cell_type": "markdown",
   "metadata": {},
   "source": [
    "Importing Libraries and Pipeline"
   ]
  },
  {
   "cell_type": "code",
   "execution_count": 1,
   "metadata": {},
   "outputs": [],
   "source": [
    "import sys\n",
    "sys.path.append('..')  # This lets Python look one level up\n",
    "\n",
    "from pipelinxl1 import get_train_val_test_scaled"
   ]
  },
  {
   "cell_type": "code",
   "execution_count": 2,
   "metadata": {},
   "outputs": [
    {
     "name": "stdout",
     "output_type": "stream",
     "text": [
      "Non-numeric columns in X_train:\n",
      "Index(['HTR', 'Time'], dtype='object')\n"
     ]
    },
    {
     "name": "stderr",
     "output_type": "stream",
     "text": [
      "/Users/faisaljunblatt/Documents/GitHub/Premier_League_Match_Predictor/notebooks/../pipelinxl1.py:30: PerformanceWarning: DataFrame is highly fragmented.  This is usually the result of calling `frame.insert` many times, which has poor performance.  Consider joining all columns at once using pd.concat(axis=1) instead. To get a de-fragmented frame, use `newframe = frame.copy()`\n",
      "  db['odds_hw'] = db[home_win_cols].mean(axis=1)\n",
      "/Users/faisaljunblatt/Documents/GitHub/Premier_League_Match_Predictor/notebooks/../pipelinxl1.py:31: PerformanceWarning: DataFrame is highly fragmented.  This is usually the result of calling `frame.insert` many times, which has poor performance.  Consider joining all columns at once using pd.concat(axis=1) instead. To get a de-fragmented frame, use `newframe = frame.copy()`\n",
      "  db['odds_d']  = db[draw_cols].mean(axis=1)\n",
      "/Users/faisaljunblatt/Documents/GitHub/Premier_League_Match_Predictor/notebooks/../pipelinxl1.py:32: PerformanceWarning: DataFrame is highly fragmented.  This is usually the result of calling `frame.insert` many times, which has poor performance.  Consider joining all columns at once using pd.concat(axis=1) instead. To get a de-fragmented frame, use `newframe = frame.copy()`\n",
      "  db['odds_aw'] = db[away_win_cols].mean(axis=1)\n"
     ]
    }
   ],
   "source": [
    "X_train_scaled, X_val_scaled, X_test_scaled, y_train, y_val, y_test = get_train_val_test_scaled()"
   ]
  },
  {
   "cell_type": "markdown",
   "metadata": {},
   "source": [
    "Train LassoCV models on FTHG and FTAG"
   ]
  },
  {
   "cell_type": "code",
   "execution_count": null,
   "metadata": {},
   "outputs": [],
   "source": [
    "from sklearn.linear_model import LassoCV\n",
    "from sklearn.metrics import mean_squared_error, r2_score\n",
    "import numpy as np\n",
    "\n",
    "targets = ['FTHG', 'FTAG']\n",
    "lasso_models = {}\n",
    "results = {}"
   ]
  },
  {
   "cell_type": "markdown",
   "metadata": {},
   "source": [
    "Model training and evaluation loop"
   ]
  },
  {
   "cell_type": "code",
   "execution_count": 7,
   "metadata": {},
   "outputs": [
    {
     "name": "stdout",
     "output_type": "stream",
     "text": [
      "\n",
      "Training LassoCV for: FTHG\n",
      "Best alpha: 0.0151\n",
      "Validation MSE: 0.1346\n",
      "R² Score: 0.0000\n",
      "Non-zero coefficients: 59\n",
      "\n",
      "Training LassoCV for: FTAG\n",
      "Best alpha: 0.0230\n",
      "Validation MSE: 0.0453\n",
      "R² Score: 0.0000\n",
      "Non-zero coefficients: 24\n"
     ]
    }
   ],
   "source": [
    "for i, target in enumerate(targets):\n",
    "    print(f\"\\nTraining LassoCV for: {target}\")\n",
    "    \n",
    "    lasso = LassoCV(cv=5, random_state=42)\n",
    "    lasso.fit(X_train_scaled, y_train.iloc[:, i])\n",
    "    lasso_models[target] = lasso\n",
    "    \n",
    "    y_pred = lasso.predict(X_val_scaled)\n",
    "    \n",
    "    mse = mean_squared_error(y_val.iloc[:, i], y_pred)\n",
    "    r2 = r2_score(y_val.iloc[:, i], y_pred)\n",
    "\n",
    "    results[target] = {\n",
    "        \"Best Alpha\": lasso.alpha_,\n",
    "        \"Validation MSE\": mse,\n",
    "        \"R² Score\": r2,\n",
    "        \"Non-zero Coefficients\": np.sum(lasso.coef_ != 0)\n",
    "    }\n",
    "\n",
    "    print(f\"Best alpha: {lasso.alpha_:.4f}\")\n",
    "    print(f\"Validation MSE: {mse:.4f}\")\n",
    "    print(f\"R² Score: {r2:.4f}\")\n",
    "    print(f\"Non-zero coefficients: {np.sum(lasso.coef_ != 0)}\")\n"
   ]
  }
 ],
 "metadata": {
  "kernelspec": {
   "display_name": "Python 3",
   "language": "python",
   "name": "python3"
  },
  "language_info": {
   "codemirror_mode": {
    "name": "ipython",
    "version": 3
   },
   "file_extension": ".py",
   "mimetype": "text/x-python",
   "name": "python",
   "nbconvert_exporter": "python",
   "pygments_lexer": "ipython3",
   "version": "3.9.6"
  }
 },
 "nbformat": 4,
 "nbformat_minor": 2
}
